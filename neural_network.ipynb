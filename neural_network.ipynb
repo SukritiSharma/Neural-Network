{
 "cells": [
  {
   "cell_type": "markdown",
   "metadata": {},
   "source": [
    "### Simple Neural network with single learning neuron\n",
    "This is a simple model with single neuron with three input and single output.\n",
    "\n",
    "We’re going to train the neuron to solve the problem below. The first four examples are called a training set. Can you work out the pattern? Should the ‘?’ be 0 or 1?\n",
    "\n",
    "|          | Input | |  | Output |\n",
    "|----------|---|---|---|--------|\n",
    "| Example 1| 0 | 0 | 1  | 0      |\n",
    "| Example 2| 1 | 1 | 1  | 1      |\n",
    "| Example 3| 1 | 0 | 1  | 1      |\n",
    "| Example 3| 0 | 1 | 1  | 1      |\n",
    "| Test     | 0 | 1 | 1  | ?      |\n",
    "\n",
    "\n",
    "In above example output is always equal to the value of the leftmost input column. Therefore the answer is the ‘?’ should be 1."
   ]
  },
  {
   "cell_type": "code",
   "execution_count": 1,
   "metadata": {},
   "outputs": [
    {
     "name": "stdout",
     "output_type": "stream",
     "text": [
      "Random starting synaptic weights: \n",
      "[[-0.16595599]\n",
      " [ 0.44064899]\n",
      " [-0.99977125]]\n",
      "New synaptic weights after training: \n",
      "[[ 7.26283009]\n",
      " [-0.21614618]\n",
      " [-3.41703015]]\n",
      "Considering new situation [1, 0, 0] -> ?: \n",
      "[ 0.99929937]\n"
     ]
    }
   ],
   "source": [
    "from numpy import exp, array, random, dot, arange\n",
    "class NeuralNetwork():\n",
    "    def __init__(self):\n",
    "        # seed the random number generator, so that it generated same number every time \n",
    "        random.seed(1)\n",
    "        # We model a single neuron, with 3 input connections and 1 output connection.\n",
    "        # We assign random weights to a 3 x 1 matrix, with values in the range -1 to 1\n",
    "        # and mean 0.\n",
    "        self.synaptic_weights = 2 * random.random((3, 1)) - 1\n",
    "        # To store error at each iteration \n",
    "        self.train_error=[]\n",
    "        \n",
    "    # The Sigmoid function, which describes an S shaped curve.\n",
    "    # We pass the weighted sum of the inputs through this function to\n",
    "    # normalise them between 0 and 1.    \n",
    "    def __sigmoid(self, x):\n",
    "        return 1 / (1 + exp(-x))\n",
    "    \n",
    "    # The derivative of the Sigmoid function.\n",
    "    # This is the gradient of the Sigmoid curve.\n",
    "    # It indicates how confident we are about the existing weight.\n",
    "    def __sigmoid_derivative(self, x):\n",
    "        return x * (1 - x)\n",
    "    \n",
    "    # We train the neural network through a process of trial and error.Adjusting the synaptic weights each time.\n",
    "    def train(self, training_set_inputs, training_set_outputs, number_of_training_iterations):\n",
    "        for iteration in range(number_of_training_iterations):\n",
    "            # Pass the training set through our neural network (a single neuron).\n",
    "            output = self.neuron(training_set_inputs)\n",
    "            error = training_set_outputs - output # calculate error\n",
    "            self.train_error.append(error)\n",
    "            # Multiply the error by the input and again by the gradient of the Sigmoid curve.\n",
    "            # This means less confident weights are adjusted more.\n",
    "            # This means inputs, which are zero, do not cause changes to the weights.\n",
    "            adjustment = dot(training_set_inputs.T, error * self.__sigmoid_derivative(output))\n",
    "            self.synaptic_weights += adjustment # Adjusting weights\n",
    "    \n",
    "    # Pass inputs through our neural network (our single neuron).        \n",
    "    def neuron(self, inputs):\n",
    "        return self.__sigmoid(dot(inputs, self.synaptic_weights))\n",
    "    \n",
    "    # Return the array of error at each iteration\n",
    "    def getTrain_error(self):\n",
    "        return self.train_error\n",
    "\n",
    "neural_network = NeuralNetwork()     #Intialise a single neuron neural network.\n",
    "\n",
    "print(\"Random starting synaptic weights: \")\n",
    "print(neural_network.synaptic_weights)\n",
    "\n",
    "# The training set. We have 4 examples, each consisting of 3 input values and 1 output value.\n",
    "training_set_inputs = array([[0, 0, 1], [1, 1, 1], [1, 0, 1], [0, 1, 1]])\n",
    "training_set_outputs = array([[0, 1, 1, 0]]).T\n",
    "\n",
    "# Train the neural network using a training set.\n",
    "# Do it 10,00 times and make small adjustments each time.\n",
    "number_of_training_iterations=1000\n",
    "neural_network.train(training_set_inputs, training_set_outputs, number_of_training_iterations)\n",
    "print(\"New synaptic weights after training: \")\n",
    "print(neural_network.synaptic_weights)\n",
    "\n",
    "\n",
    "# Test the neural network with a new situation.\n",
    "print(\"Considering new situation [1, 0, 0] -> ?: \")\n",
    "print(neural_network.neuron(array([1, 0, 0])))"
   ]
  },
  {
   "cell_type": "markdown",
   "metadata": {},
   "source": [
    "#### First the neural network assigned itself random weights, then trained itself using the training set. Then it considered a new situation [1, 0, 0] and predicted 0.99993704. The correct answer was 1. So very close!\n"
   ]
  },
  {
   "cell_type": "code",
   "execution_count": 2,
   "metadata": {},
   "outputs": [
    {
     "data": {
      "image/png": "[encoded data removed]",
      "text/plain": [
       "<matplotlib.figure.Figure at 0x10df8dd30>"
      ]
     },
     "metadata": {},
     "output_type": "display_data"
    }
   ],
   "source": [
    "#Plotting errors in training set with number of iterations\n",
    "import matplotlib.pyplot as plt\n",
    "x=arange(number_of_training_iterations)\n",
    "y=[]\n",
    "error=neural_network.getTrain_error()\n",
    "y1=[];y2=[];y3=[];y4=[]\n",
    "for i in range(len(error)):\n",
    "    y.append(sum(error[i]**2)) # taking mean square for each input\n",
    "    y1.append(error[i][0])\n",
    "    y2.append(error[i][1])\n",
    "    y3.append(error[i][2])\n",
    "    y4.append(error[i][3])\n",
    "plt.plot(x,y)\n",
    "plt.plot(x,y1)\n",
    "plt.plot(x,y2)\n",
    "plt.plot(x,y3)\n",
    "plt.plot(x,y4)\n",
    "plt.ylabel('error')\n",
    "plt.xlabel('Number of iteration')\n",
    "plt.show()"
   ]
  },
  {
   "cell_type": "markdown",
   "metadata": {},
   "source": [
    "### This plot is error vs number of iteration\n",
    " Each line here represent for each training set data how error rate reduces in each iteration and after certain iteration they all converges near 0, represening error is reducing with more number of iteration"
   ]
  },
  {
   "cell_type": "code",
   "execution_count": null,
   "metadata": {
    "collapsed": true
   },
   "outputs": [],
   "source": []
  }
 ],
 "metadata": {
  "kernelspec": {
   "display_name": "Python 3",
   "language": "python",
   "name": "python3"
  },
  "language_info": {
   "codemirror_mode": {
    "name": "ipython",
    "version": 3
   },
   "file_extension": ".py",
   "mimetype": "text/x-python",
   "name": "python",
   "nbconvert_exporter": "python",
   "pygments_lexer": "ipython3",
   "version": "3.6.3"
  }
 },
 "nbformat": 4,
 "nbformat_minor": 2
}
